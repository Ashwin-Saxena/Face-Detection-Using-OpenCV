{
 "cells": [
  {
   "cell_type": "code",
   "execution_count": 1,
   "metadata": {},
   "outputs": [],
   "source": [
    "import cv2"
   ]
  },
  {
   "cell_type": "code",
   "execution_count": 5,
   "metadata": {},
   "outputs": [],
   "source": [
    "cam=cv2.VideoCapture('pedestrians.avi')\n",
    "# cam=cv2.VideoCapture(0)"
   ]
  },
  {
   "cell_type": "code",
   "execution_count": 6,
   "metadata": {},
   "outputs": [],
   "source": [
    "pedestrian_classifier=cv2.CascadeClassifier('pedestrian.xml')\n",
    "# cars_classifier=cv2.CascadeClassifier('cars.xml')"
   ]
  },
  {
   "cell_type": "code",
   "execution_count": 7,
   "metadata": {},
   "outputs": [],
   "source": [
    "while True:\n",
    "    ret , img =cam.read()\n",
    "    gray=cv2.cvtColor(img,cv2.COLOR_BGR2GRAY)\n",
    "    pedestrians=pedestrian_classifier.detectMultiScale(gray,1.3,2)\n",
    "#     cars=cars_classifier.detectMultiScale(gray,1.3,2)\n",
    "    for(a,b,c,d) in pedestrians:\n",
    "        cv2.rectangle(img,(a,b),(a+c,b+d),(0,255,210),4)\n",
    "#     for(x,y,z,w) in cars:\n",
    "#         cv2.rectangle(img,(x,y),(x+z,y+w),(255,255,0),4)\n",
    "    cv2.imshow('Detecting Pedestrians.....',img)\n",
    "    if cv2.waitKey(33) == 27:\n",
    "        break\n",
    "\n",
    "cv2.destroyAllWindows()"
   ]
  },
  {
   "cell_type": "code",
   "execution_count": null,
   "metadata": {},
   "outputs": [],
   "source": []
  }
 ],
 "metadata": {
  "kernelspec": {
   "display_name": "Python 3",
   "language": "python",
   "name": "python3"
  },
  "language_info": {
   "codemirror_mode": {
    "name": "ipython",
    "version": 3
   },
   "file_extension": ".py",
   "mimetype": "text/x-python",
   "name": "python",
   "nbconvert_exporter": "python",
   "pygments_lexer": "ipython3",
   "version": "3.7.4"
  }
 },
 "nbformat": 4,
 "nbformat_minor": 2
}
